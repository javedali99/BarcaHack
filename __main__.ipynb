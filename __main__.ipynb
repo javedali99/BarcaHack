{
 "cells": [
  {
   "cell_type": "code",
   "execution_count": 95,
   "metadata": {},
   "outputs": [],
   "source": [
    "%matplotlib widget\n",
    "%matplotlib inline\n",
    "# %matplotlib qt "
   ]
  },
  {
   "cell_type": "code",
   "execution_count": 209,
   "metadata": {},
   "outputs": [],
   "source": [
    "from osgeo import gdal, ogr\n",
    "import sys\n",
    "import os"
   ]
  },
  {
   "cell_type": "code",
   "execution_count": 96,
   "metadata": {},
   "outputs": [],
   "source": [
    "from __future__ import print_function\n",
    "from ipywidgets import interact, interactive, fixed, interact_manual\n",
    "import ipywidgets as widgets"
   ]
  },
  {
   "cell_type": "code",
   "execution_count": 97,
   "metadata": {},
   "outputs": [],
   "source": [
    "import ee\n",
    "import geemap\n",
    "\n",
    "import folium\n",
    "from folium.plugins import MarkerCluster\n",
    "import pandas as pd\n",
    "import rasterio\n",
    "\n",
    "import gdal\n",
    "import geopandas as gpd"
   ]
  },
  {
   "cell_type": "code",
   "execution_count": null,
   "metadata": {},
   "outputs": [],
   "source": []
  },
  {
   "cell_type": "code",
   "execution_count": null,
   "metadata": {},
   "outputs": [],
   "source": []
  },
  {
   "cell_type": "code",
   "execution_count": 98,
   "metadata": {},
   "outputs": [],
   "source": [
    "Map = geemap.Map()"
   ]
  },
  {
   "cell_type": "code",
   "execution_count": null,
   "metadata": {},
   "outputs": [],
   "source": []
  },
  {
   "cell_type": "code",
   "execution_count": null,
   "metadata": {},
   "outputs": [],
   "source": []
  },
  {
   "cell_type": "code",
   "execution_count": 99,
   "metadata": {},
   "outputs": [],
   "source": [
    "# alecant_shp = 'Shapefiles/Murcia/Murcia.shp'\n",
    "# alecant = geemap.shp_to_ee(alecant_shp)\n",
    "\n",
    "#murcia_shp = 'Shapefiles/OSM_shape/Murcia/Murcia.shp'\n",
    "murcia_shp = 'Shapefiles/Murcia/Murcia.shp'\n",
    "murcia = geemap.shp_to_ee(murcia_shp)"
   ]
  },
  {
   "cell_type": "code",
   "execution_count": 100,
   "metadata": {},
   "outputs": [],
   "source": [
    "shelters_murcia_shp = 'Shapefiles/OSM_shape/Murcia/shelterpointsmurcia.shp'\n",
    "shelters_murcia = geemap.shp_to_ee(shelters_murcia_shp)"
   ]
  },
  {
   "cell_type": "code",
   "execution_count": 168,
   "metadata": {},
   "outputs": [],
   "source": [
    "#covid_zones_shp = 'Shapefiles/covid_z/COVID19murcia2zones.shp'\n",
    "covid_zones_shp = 'Shapefiles/covid_z/covid19zone.shp'\n",
    "covid_zones = geemap.shp_to_ee(covid_zones_shp)\n"
   ]
  },
  {
   "cell_type": "code",
   "execution_count": 169,
   "metadata": {},
   "outputs": [
    {
     "data": {
      "text/plain": [
       "<ee.featurecollection.FeatureCollection at 0x7fc9ee1a1890>"
      ]
     },
     "execution_count": 169,
     "metadata": {},
     "output_type": "execute_result"
    }
   ],
   "source": [
    "covid_zones"
   ]
  },
  {
   "cell_type": "code",
   "execution_count": 170,
   "metadata": {},
   "outputs": [],
   "source": [
    "# print(alecant)"
   ]
  },
  {
   "cell_type": "code",
   "execution_count": 171,
   "metadata": {},
   "outputs": [],
   "source": [
    "zoom = 9\n",
    "#Map = geemap.Map(center=[38.346353, -0.490741], zoom = zoom)\n",
    "Map = geemap.Map(zoom = zoom)\n",
    "Map.centerObject(murcia)"
   ]
  },
  {
   "cell_type": "code",
   "execution_count": 172,
   "metadata": {},
   "outputs": [],
   "source": [
    "Map\n",
    "Map.addLayer(murcia, {}, 'Murcia')\n",
    "Map.addLayer(shelters_murcia, {}, 'Rescue Shelters Murcia')"
   ]
  },
  {
   "cell_type": "code",
   "execution_count": 173,
   "metadata": {},
   "outputs": [],
   "source": [
    "# print(point)\n",
    "# point = Map.draw_last_feature"
   ]
  },
  {
   "cell_type": "code",
   "execution_count": 174,
   "metadata": {},
   "outputs": [
    {
     "data": {
      "application/vnd.jupyter.widget-view+json": {
       "model_id": "0f0e36ddb11b4585a2c59e1020994ba9",
       "version_major": 2,
       "version_minor": 0
      },
      "text/plain": [
       "Map(center=[38.001307045400715, -1.4854173714301595], controls=(WidgetControl(options=['position'], widget=HBo…"
      ]
     },
     "metadata": {},
     "output_type": "display_data"
    }
   ],
   "source": [
    "Map"
   ]
  },
  {
   "cell_type": "code",
   "execution_count": 175,
   "metadata": {},
   "outputs": [],
   "source": [
    "#epsg 3035 for the RP500 floodmap\n",
    "#Mapbox studio upload map\n",
    "#Openstreet Map Data: OSM Building, etc\n",
    "#Jamaica hurricane station"
   ]
  },
  {
   "cell_type": "code",
   "execution_count": null,
   "metadata": {},
   "outputs": [],
   "source": []
  },
  {
   "cell_type": "code",
   "execution_count": null,
   "metadata": {},
   "outputs": [],
   "source": [
    "\n",
    "\n"
   ]
  },
  {
   "cell_type": "code",
   "execution_count": 176,
   "metadata": {},
   "outputs": [],
   "source": [
    "# RP500 = 'Tif_files/floodMap_RP500/floodmap_EFAS_RP500_C.tif' #Whole Europe\n",
    "# AlicanteRP500 = 'Tif_files/floodMap_RP500/Alicante_RP500.tif'\n",
    "MurciaRP500 = 'Tif_files/floodMap_RP500/Murcia_RP500.tif'"
   ]
  },
  {
   "cell_type": "code",
   "execution_count": 182,
   "metadata": {},
   "outputs": [],
   "source": [
    "# Set visualization parameters.\n",
    "vis_params = {\n",
    "  'palette': ['0000FF']}\n",
    "\n",
    "#Map.add_raster(RP500, layer_name='RP500')\n",
    "# Map.add_raster(AlicanteRP500, layer_name='RP500')\n",
    "Map.add_raster(MurciaRP500, vis_params, layer_name='Murcia RP500')"
   ]
  },
  {
   "cell_type": "code",
   "execution_count": null,
   "metadata": {},
   "outputs": [],
   "source": []
  },
  {
   "cell_type": "code",
   "execution_count": 183,
   "metadata": {},
   "outputs": [],
   "source": [
    "# with rasterio.open(AlicanteRP500) as src:\n",
    "#     print(src.width, src.height)\n",
    "#     print(src.crs)\n",
    "#     print(src.indexes)\n",
    "\n",
    "\n",
    "#ee.folium -> add line of code"
   ]
  },
  {
   "cell_type": "code",
   "execution_count": 184,
   "metadata": {},
   "outputs": [
    {
     "data": {
      "application/vnd.jupyter.widget-view+json": {
       "model_id": "0f0e36ddb11b4585a2c59e1020994ba9",
       "version_major": 2,
       "version_minor": 0
      },
      "text/plain": [
       "Map(bottom=25539.0, center=[38.064424091705334, -1.4960836195000002], controls=(WidgetControl(options=['positi…"
      ]
     },
     "metadata": {},
     "output_type": "display_data"
    },
    {
     "name": "stdout",
     "output_type": "stream",
     "text": [
      "Zooming out\n"
     ]
    }
   ],
   "source": [
    "Map"
   ]
  },
  {
   "cell_type": "markdown",
   "metadata": {},
   "source": [
    "<H1> Draw a point at your approximate location </H1>"
   ]
  },
  {
   "cell_type": "code",
   "execution_count": 187,
   "metadata": {},
   "outputs": [],
   "source": [
    "point = Map.draw_last_feature"
   ]
  },
  {
   "cell_type": "code",
   "execution_count": 188,
   "metadata": {},
   "outputs": [
    {
     "data": {
      "text/plain": [
       "list"
      ]
     },
     "execution_count": 188,
     "metadata": {},
     "output_type": "execute_result"
    }
   ],
   "source": [
    "points = Map.draw_features\n",
    "points\n",
    "point.getInfo()\n",
    "type(points)"
   ]
  },
  {
   "cell_type": "code",
   "execution_count": 189,
   "metadata": {},
   "outputs": [
    {
     "name": "stdout",
     "output_type": "stream",
     "text": [
      "ee.FeatureCollection({\n",
      "  \"type\": \"Invocation\",\n",
      "  \"arguments\": {\n",
      "    \"features\": [\n",
      "      {\n",
      "        \"type\": \"Invocation\",\n",
      "        \"arguments\": {\n",
      "          \"geometry\": {\n",
      "            \"type\": \"Polygon\",\n",
      "            \"coordinates\": [\n",
      "              [\n",
      "                [\n",
      "                  -1.1073048688746656,\n",
      "                  37.99160210624223\n",
      "                ],\n",
      "                [\n",
      "                  -1.0977414680253488,\n",
      "                  37.99528504544414\n",
      "                ],\n",
      "                [\n",
      "                  -1.096199761087424,\n",
      "                  37.98845057846934\n",
      "                ],\n",
      "                [\n",
      "                  -1.1051609326641134,\n",
      "                  37.98583053063792\n",
      "                ],\n",
      "                [\n",
      "                  -1.1051609326641134,\n",
      "                  37.98583053063792\n",
      "                ],\n",
      "                [\n",
      "                  -1.1073048688746656,\n",
      "                  37.99160210624223\n",
      "                ]\n",
      "              ]\n",
      "            ]\n",
      "          },\n",
      "          \"metadata\": {\n",
      "            \"type\": \"Dictionary\",\n",
      "            \"value\": {\n",
      "              \"id\": 2\n",
      "            }\n",
      "          }\n",
      "        },\n",
      "        \"functionName\": \"Feature\"\n",
      "      }\n",
      "    ]\n",
      "  },\n",
      "  \"functionName\": \"Collection\"\n",
      "})\n"
     ]
    }
   ],
   "source": [
    "print(covid_zones)"
   ]
  },
  {
   "cell_type": "code",
   "execution_count": 198,
   "metadata": {},
   "outputs": [],
   "source": [
    "# Viz = {'min': 1, 'max': 2, 'palette': ['00FFFF', '0000FF']}\n",
    "# Viz = {'palette': ['00FFFF', 'FF0000']}\n",
    "Viz = {'id': ['FF0000']}\n",
    "Map.addLayer(covid_zones, {'id':['FF0000']}, 'Covid Map')"
   ]
  },
  {
   "cell_type": "code",
   "execution_count": 199,
   "metadata": {},
   "outputs": [],
   "source": [
    "# interact(reg, beam_name=beam_name, series_name = series_name, start_date = '2018-09-01', end_date = '2019-09-01', quantile_cutoff = (0.05, 0.35));"
   ]
  },
  {
   "cell_type": "code",
   "execution_count": 200,
   "metadata": {},
   "outputs": [
    {
     "data": {
      "application/vnd.jupyter.widget-view+json": {
       "model_id": "0f0e36ddb11b4585a2c59e1020994ba9",
       "version_major": 2,
       "version_minor": 0
      },
      "text/plain": [
       "Map(bottom=3236428.0, center=[37.98557640542519, -1.1062502861022951], controls=(WidgetControl(options=['posit…"
      ]
     },
     "metadata": {},
     "output_type": "display_data"
    }
   ],
   "source": [
    "Map"
   ]
  },
  {
   "cell_type": "code",
   "execution_count": null,
   "metadata": {},
   "outputs": [],
   "source": [
    "\n",
    "\n",
    "# buffered = points.map(lambda f: f.buffer(2000))\n",
    "buffered = point.buffer(2000)\n",
    "#unioned = buffered.union()\n"
   ]
  },
  {
   "cell_type": "code",
   "execution_count": 154,
   "metadata": {},
   "outputs": [
    {
     "data": {
      "text/plain": [
       "<ee.feature.Feature at 0x7fc9c5f856d0>"
      ]
     },
     "execution_count": 154,
     "metadata": {},
     "output_type": "execute_result"
    }
   ],
   "source": [
    "buffered"
   ]
  },
  {
   "cell_type": "code",
   "execution_count": 155,
   "metadata": {},
   "outputs": [
    {
     "ename": "AttributeError",
     "evalue": "'NoneType' object has no attribute 'centroid'",
     "output_type": "error",
     "traceback": [
      "\u001b[0;31m---------------------------------------------------------------------------\u001b[0m",
      "\u001b[0;31mAttributeError\u001b[0m                            Traceback (most recent call last)",
      "\u001b[0;32m<ipython-input-155-b006514db0ac>\u001b[0m in \u001b[0;36m<module>\u001b[0;34m\u001b[0m\n\u001b[0;32m----> 1\u001b[0;31m \u001b[0mtype\u001b[0m\u001b[0;34m(\u001b[0m\u001b[0mpoint\u001b[0m\u001b[0;34m.\u001b[0m\u001b[0mcentroid\u001b[0m\u001b[0;34m)\u001b[0m\u001b[0;34m\u001b[0m\u001b[0;34m\u001b[0m\u001b[0m\n\u001b[0m",
      "\u001b[0;31mAttributeError\u001b[0m: 'NoneType' object has no attribute 'centroid'"
     ]
    }
   ],
   "source": [
    "type(point.centroid)"
   ]
  },
  {
   "cell_type": "code",
   "execution_count": 156,
   "metadata": {},
   "outputs": [],
   "source": [
    "Map.addLayer(buffered)"
   ]
  },
  {
   "cell_type": "code",
   "execution_count": 157,
   "metadata": {},
   "outputs": [],
   "source": [
    "# def reg(Map = Map, buf = 2000):\n",
    "#     Map.addLayer(buf)\n",
    "#     return 0"
   ]
  },
  {
   "cell_type": "code",
   "execution_count": 158,
   "metadata": {},
   "outputs": [],
   "source": [
    "# result_df = interact(reg, buf = (1, 10000));\n",
    "# refuge_buffered = gpd.read_file(shelters_murcia).intersects(buffered)"
   ]
  },
  {
   "cell_type": "code",
   "execution_count": null,
   "metadata": {},
   "outputs": [],
   "source": []
  },
  {
   "cell_type": "code",
   "execution_count": 159,
   "metadata": {},
   "outputs": [],
   "source": [
    "clipped = shelters_murcia.map(lambda f: f.intersection(buffered))\n",
    "# bad_clip = clipped.map(lambda f: f.intersection(MurciaRP500))\n",
    "# bad_clip = clipped.map(lambda f: f.intersection(MurciaRP500))"
   ]
  },
  {
   "cell_type": "code",
   "execution_count": 201,
   "metadata": {},
   "outputs": [],
   "source": [
    "clipped = clipped.map(lambda f: f.intersection(covid_zones))"
   ]
  },
  {
   "cell_type": "code",
   "execution_count": 203,
   "metadata": {},
   "outputs": [
    {
     "data": {
      "text/plain": [
       "ee.featurecollection.FeatureCollection"
      ]
     },
     "execution_count": 203,
     "metadata": {},
     "output_type": "execute_result"
    }
   ],
   "source": [
    "type(clipped)"
   ]
  },
  {
   "cell_type": "code",
   "execution_count": 202,
   "metadata": {},
   "outputs": [],
   "source": [
    "#bad = clipped.map(lambda f:f.difference(MurciaRP500))\n",
    "#Convert raster to vector.. or test if point intersects with pixel\n",
    "#geopandas ee geemap"
   ]
  },
  {
   "cell_type": "code",
   "execution_count": 205,
   "metadata": {},
   "outputs": [],
   "source": [
    "# # Read points from shapefile\n",
    "# pts = gpd.read_file(clipped)\n",
    "# pts = pts[['UTM_E', 'UTM_N', 'Value', 'geometry']]\n",
    "# pts.index = range(len(pts))\n",
    "# coords = [(x,y) for x, y in zip(pts.UTM_E, pts.UTM_N)]"
   ]
  },
  {
   "cell_type": "code",
   "execution_count": 221,
   "metadata": {},
   "outputs": [
    {
     "name": "stdout",
     "output_type": "stream",
     "text": [
      "/home/shakya/jupyter_home/BarcaHack/Home/Tif_files/floodMap_RP500/Murcia_RP500.tif\n"
     ]
    }
   ],
   "source": []
  },
  {
   "cell_type": "code",
   "execution_count": 219,
   "metadata": {},
   "outputs": [],
   "source": [
    "#The below codes makes shapefile in the same folder this notebook is saved\n",
    "#Didn't work"
   ]
  },
  {
   "cell_type": "code",
   "execution_count": 222,
   "metadata": {},
   "outputs": [
    {
     "data": {
      "text/plain": [
       "0"
      ]
     },
     "execution_count": 222,
     "metadata": {},
     "output_type": "execute_result"
    }
   ],
   "source": [
    "# gdal.UseExceptions()\n",
    "# dir = os.getcwd()\n",
    "# fileName = dir + \"/\" + MurciaRP500\n",
    "# src_ds = gdal.Open(fileName)\n",
    "# if src_ds is None:\n",
    "#     print('Unable to open %s' % src_fileName)\n",
    "#     sys.exit(1)\n",
    "# srcband = src_ds.GetRasterBand(1)\n",
    "# dst_layername = \"PolyFtr\"\n",
    "# drv = ogr.GetDriverByName(\"ESRI Shapefile\")\n",
    "# dst_ds = drv.CreateDataSource(dst_layername + \".shp\")\n",
    "# dst_layer = dst_ds.CreateLayer(dst_layername, srs = None)\n",
    "# newField = ogr.FieldDefn('Area', ogr.OFTInteger)\n",
    "# dst_layer.CreateField(newField)\n",
    "# gdal.Polygonize(srcband, None, dst_layer, 0, [], \n",
    "# callback=None )"
   ]
  },
  {
   "cell_type": "code",
   "execution_count": 208,
   "metadata": {},
   "outputs": [
    {
     "ename": "AttributeError",
     "evalue": "module 'ee' has no attribute 'extract_values_to_points'",
     "output_type": "error",
     "traceback": [
      "\u001b[0;31m---------------------------------------------------------------------------\u001b[0m",
      "\u001b[0;31mAttributeError\u001b[0m                            Traceback (most recent call last)",
      "\u001b[0;32m<ipython-input-208-bc37474a1b1d>\u001b[0m in \u001b[0;36m<module>\u001b[0;34m\u001b[0m\n\u001b[1;32m      1\u001b[0m \u001b[0;31m# extract_values_to_points(in_points, img, label, scale=None)\u001b[0m\u001b[0;34m\u001b[0m\u001b[0;34m\u001b[0m\u001b[0;34m\u001b[0m\u001b[0m\n\u001b[1;32m      2\u001b[0m \u001b[0;31m#geemap.extract_values_to_points(clipped, MurciaRP500, label, scale=None)\u001b[0m\u001b[0;34m\u001b[0m\u001b[0;34m\u001b[0m\u001b[0;34m\u001b[0m\u001b[0m\n\u001b[0;32m----> 3\u001b[0;31m \u001b[0mee\u001b[0m\u001b[0;34m.\u001b[0m\u001b[0mextract_values_to_points\u001b[0m\u001b[0;34m(\u001b[0m\u001b[0mclipped\u001b[0m\u001b[0;34m,\u001b[0m \u001b[0mMurciaRP500\u001b[0m\u001b[0;34m,\u001b[0m \u001b[0mlabel\u001b[0m\u001b[0;34m,\u001b[0m \u001b[0mscale\u001b[0m\u001b[0;34m=\u001b[0m\u001b[0;32mNone\u001b[0m\u001b[0;34m)\u001b[0m\u001b[0;34m\u001b[0m\u001b[0;34m\u001b[0m\u001b[0m\n\u001b[0m",
      "\u001b[0;31mAttributeError\u001b[0m: module 'ee' has no attribute 'extract_values_to_points'"
     ]
    }
   ],
   "source": [
    "# extract_values_to_points(in_points, img, label, scale=None)\n",
    "#geemap.extract_values_to_points(clipped, MurciaRP500, label, scale=None)\n",
    "#ee.extract_values_to_points(clipped, MurciaRP500, label, scale=None)"
   ]
  },
  {
   "cell_type": "code",
   "execution_count": 128,
   "metadata": {},
   "outputs": [
    {
     "data": {
      "text/plain": [
       "'Tif_files/floodMap_RP500/Murcia_RP500.tif'"
      ]
     },
     "execution_count": 128,
     "metadata": {},
     "output_type": "execute_result"
    }
   ],
   "source": [
    "MurciaRP500"
   ]
  },
  {
   "cell_type": "code",
   "execution_count": null,
   "metadata": {},
   "outputs": [],
   "source": [
    "ee.d"
   ]
  },
  {
   "cell_type": "code",
   "execution_count": null,
   "metadata": {},
   "outputs": [],
   "source": [
    "Map.addLayer(clipped, {}, \"Clipped\")"
   ]
  },
  {
   "cell_type": "code",
   "execution_count": null,
   "metadata": {},
   "outputs": [],
   "source": [
    "Map.addLayer(differenced, {}, \"Shelter\")"
   ]
  },
  {
   "cell_type": "code",
   "execution_count": null,
   "metadata": {},
   "outputs": [],
   "source": [
    "Map"
   ]
  },
  {
   "cell_type": "code",
   "execution_count": null,
   "metadata": {},
   "outputs": [],
   "source": []
  }
 ],
 "metadata": {
  "kernelspec": {
   "display_name": "Python 3",
   "language": "python",
   "name": "python3"
  },
  "language_info": {
   "codemirror_mode": {
    "name": "ipython",
    "version": 3
   },
   "file_extension": ".py",
   "mimetype": "text/x-python",
   "name": "python",
   "nbconvert_exporter": "python",
   "pygments_lexer": "ipython3",
   "version": "3.7.8"
  }
 },
 "nbformat": 4,
 "nbformat_minor": 4
}
