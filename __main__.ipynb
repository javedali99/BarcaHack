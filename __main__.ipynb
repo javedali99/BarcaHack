{
 "cells": [
  {
   "cell_type": "code",
   "execution_count": 2,
   "metadata": {},
   "outputs": [],
   "source": [
    "%matplotlib widget\n",
    "%matplotlib inline\n",
    "# %matplotlib qt "
   ]
  },
  {
   "cell_type": "code",
   "execution_count": null,
   "metadata": {},
   "outputs": [],
   "source": []
  },
  {
   "cell_type": "code",
   "execution_count": 3,
   "metadata": {},
   "outputs": [],
   "source": [
    "from __future__ import print_function\n",
    "from ipywidgets import interact, interactive, fixed, interact_manual\n",
    "import ipywidgets as widgets"
   ]
  },
  {
   "cell_type": "code",
   "execution_count": 4,
   "metadata": {},
   "outputs": [],
   "source": [
    "import ee\n",
    "import geemap\n",
    "\n",
    "import folium\n",
    "from folium.plugins import MarkerCluster\n",
    "import pandas as pd\n",
    "import rasterio\n",
    "\n",
    "\n",
    "import geopandas as gpd"
   ]
  },
  {
   "cell_type": "code",
   "execution_count": null,
   "metadata": {},
   "outputs": [],
   "source": []
  },
  {
   "cell_type": "code",
   "execution_count": null,
   "metadata": {},
   "outputs": [],
   "source": []
  },
  {
   "cell_type": "code",
   "execution_count": 5,
   "metadata": {},
   "outputs": [],
   "source": [
    "Map = geemap.Map()"
   ]
  },
  {
   "cell_type": "code",
   "execution_count": null,
   "metadata": {},
   "outputs": [],
   "source": []
  },
  {
   "cell_type": "code",
   "execution_count": null,
   "metadata": {},
   "outputs": [],
   "source": []
  },
  {
   "cell_type": "code",
   "execution_count": 6,
   "metadata": {},
   "outputs": [],
   "source": [
    "# alecant_shp = 'Shapefiles/Murcia/Murcia.shp'\n",
    "# alecant = geemap.shp_to_ee(alecant_shp)\n",
    "\n",
    "#murcia_shp = 'Shapefiles/OSM_shape/Murcia/Murcia.shp'\n",
    "murcia_shp = 'Shapefiles/Murcia/Murcia.shp'\n",
    "murcia = geemap.shp_to_ee(murcia_shp)"
   ]
  },
  {
   "cell_type": "code",
   "execution_count": 7,
   "metadata": {},
   "outputs": [],
   "source": [
    "shelters_murcia_shp = 'Shapefiles/OSM_shape/Murcia/shelterpointsmurcia.shp'\n",
    "shelters_murcia = geemap.shp_to_ee(shelters_murcia_shp)"
   ]
  },
  {
   "cell_type": "code",
   "execution_count": 8,
   "metadata": {},
   "outputs": [],
   "source": [
    "#covid_zones_shp = 'Shapefiles/covid_z/COVID19murcia2zones.shp'\n",
    "covid_zones_shp = 'Shapefiles/covid_z/covid19zone.shp'\n",
    "covid_zones = geemap.shp_to_ee(covid_zones_shp)\n"
   ]
  },
  {
   "cell_type": "code",
   "execution_count": 9,
   "metadata": {},
   "outputs": [
    {
     "data": {
      "text/plain": [
       "<ee.featurecollection.FeatureCollection at 0x7f12935220d0>"
      ]
     },
     "execution_count": 9,
     "metadata": {},
     "output_type": "execute_result"
    }
   ],
   "source": [
    "covid_zones"
   ]
  },
  {
   "cell_type": "code",
   "execution_count": 10,
   "metadata": {},
   "outputs": [],
   "source": [
    "# print(alecant)"
   ]
  },
  {
   "cell_type": "code",
   "execution_count": 11,
   "metadata": {},
   "outputs": [],
   "source": [
    "zoom = 9\n",
    "#Map = geemap.Map(center=[38.346353, -0.490741], zoom = zoom)\n",
    "Map = geemap.Map(zoom = zoom)\n",
    "Map.centerObject(murcia)"
   ]
  },
  {
   "cell_type": "code",
   "execution_count": 12,
   "metadata": {},
   "outputs": [],
   "source": [
    "Map\n",
    "Map.addLayer(murcia, {}, 'Murcia')\n",
    "Map.addLayer(shelters_murcia, {}, 'Rescue Shelters Murcia')"
   ]
  },
  {
   "cell_type": "code",
   "execution_count": 13,
   "metadata": {},
   "outputs": [],
   "source": [
    "# print(point)\n",
    "# point = Map.draw_last_feature"
   ]
  },
  {
   "cell_type": "code",
   "execution_count": 14,
   "metadata": {},
   "outputs": [
    {
     "data": {
      "application/vnd.jupyter.widget-view+json": {
       "model_id": "fc8b23021303466e8b71db9c10b3d969",
       "version_major": 2,
       "version_minor": 0
      },
      "text/plain": [
       "Map(center=[38.001307045400715, -1.4854173714301595], controls=(WidgetControl(options=['position'], widget=HBo…"
      ]
     },
     "metadata": {},
     "output_type": "display_data"
    }
   ],
   "source": [
    "Map"
   ]
  },
  {
   "cell_type": "code",
   "execution_count": 15,
   "metadata": {},
   "outputs": [],
   "source": [
    "#epsg 3035 for the RP500 floodmap\n",
    "#Mapbox studio upload map\n",
    "#Openstreet Map Data: OSM Building, etc\n",
    "#Jamaica hurricane station"
   ]
  },
  {
   "cell_type": "code",
   "execution_count": null,
   "metadata": {},
   "outputs": [],
   "source": []
  },
  {
   "cell_type": "code",
   "execution_count": null,
   "metadata": {},
   "outputs": [],
   "source": [
    "\n",
    "\n"
   ]
  },
  {
   "cell_type": "code",
   "execution_count": 16,
   "metadata": {},
   "outputs": [],
   "source": [
    "# RP500 = 'Tif_files/floodMap_RP500/floodmap_EFAS_RP500_C.tif' #Whole Europe\n",
    "# AlicanteRP500 = 'Tif_files/floodMap_RP500/Alicante_RP500.tif'\n",
    "MurciaRP500 = 'Tif_files/floodMap_RP500/Murcia_RP500.tif'"
   ]
  },
  {
   "cell_type": "code",
   "execution_count": 17,
   "metadata": {},
   "outputs": [],
   "source": [
    "# Set visualization parameters.\n",
    "vis_params = {\n",
    "  'palette': ['0000FF']}\n",
    "\n",
    "#Map.add_raster(RP500, layer_name='RP500')\n",
    "# Map.add_raster(AlicanteRP500, layer_name='RP500')\n",
    "Map.add_raster(MurciaRP500, vis_params, layer_name='Murcia RP500')"
   ]
  },
  {
   "cell_type": "code",
   "execution_count": null,
   "metadata": {},
   "outputs": [],
   "source": []
  },
  {
   "cell_type": "code",
   "execution_count": 18,
   "metadata": {},
   "outputs": [],
   "source": [
    "# with rasterio.open(AlicanteRP500) as src:\n",
    "#     print(src.width, src.height)\n",
    "#     print(src.crs)\n",
    "#     print(src.indexes)\n",
    "\n",
    "\n",
    "#ee.folium -> add line of code"
   ]
  },
  {
   "cell_type": "code",
   "execution_count": 19,
   "metadata": {},
   "outputs": [
    {
     "data": {
      "application/vnd.jupyter.widget-view+json": {
       "model_id": "fc8b23021303466e8b71db9c10b3d969",
       "version_major": 2,
       "version_minor": 0
      },
      "text/plain": [
       "Map(center=[38.001307045400715, -1.4854173714301595], controls=(WidgetControl(options=['position'], widget=HBo…"
      ]
     },
     "metadata": {},
     "output_type": "display_data"
    }
   ],
   "source": [
    "Map"
   ]
  },
  {
   "cell_type": "markdown",
   "metadata": {},
   "source": [
    "<H1> Draw a point at your approximate location </H1>"
   ]
  },
  {
   "cell_type": "code",
   "execution_count": 20,
   "metadata": {},
   "outputs": [],
   "source": [
    "point = Map.draw_last_feature"
   ]
  },
  {
   "cell_type": "code",
   "execution_count": 21,
   "metadata": {},
   "outputs": [
    {
     "data": {
      "text/plain": [
       "list"
      ]
     },
     "execution_count": 21,
     "metadata": {},
     "output_type": "execute_result"
    }
   ],
   "source": [
    "points = Map.draw_features\n",
    "points\n",
    "point.getInfo()\n",
    "type(points)"
   ]
  },
  {
   "cell_type": "code",
   "execution_count": 24,
   "metadata": {},
   "outputs": [],
   "source": [
    "# print(covid_zones)"
   ]
  },
  {
   "cell_type": "code",
   "execution_count": 25,
   "metadata": {},
   "outputs": [],
   "source": [
    "# Viz = {'min': 1, 'max': 2, 'palette': ['00FFFF', '0000FF']}\n",
    "# Viz = {'palette': ['00FFFF', 'FF0000']}\n",
    "Viz = {'id': ['FF0000']}\n",
    "Map.addLayer(covid_zones, {'id':['FF0000']}, 'Covid Map')"
   ]
  },
  {
   "cell_type": "code",
   "execution_count": 26,
   "metadata": {},
   "outputs": [],
   "source": [
    "# interact(reg, beam_name=beam_name, series_name = series_name, start_date = '2018-09-01', end_date = '2019-09-01', quantile_cutoff = (0.05, 0.35));"
   ]
  },
  {
   "cell_type": "code",
   "execution_count": 27,
   "metadata": {},
   "outputs": [
    {
     "data": {
      "application/vnd.jupyter.widget-view+json": {
       "model_id": "fc8b23021303466e8b71db9c10b3d969",
       "version_major": 2,
       "version_minor": 0
      },
      "text/plain": [
       "Map(bottom=202561.0, center=[37.97126728803286, -1.169700622558594], controls=(WidgetControl(options=['positio…"
      ]
     },
     "metadata": {},
     "output_type": "display_data"
    }
   ],
   "source": [
    "Map"
   ]
  },
  {
   "cell_type": "code",
   "execution_count": 28,
   "metadata": {},
   "outputs": [],
   "source": [
    "\n",
    "\n",
    "# buffered = points.map(lambda f: f.buffer(2000))\n",
    "buffered = point.buffer(2000)\n",
    "#unioned = buffered.union()\n"
   ]
  },
  {
   "cell_type": "code",
   "execution_count": 29,
   "metadata": {},
   "outputs": [
    {
     "data": {
      "text/plain": [
       "<ee.feature.Feature at 0x7f12894f04d0>"
      ]
     },
     "execution_count": 29,
     "metadata": {},
     "output_type": "execute_result"
    }
   ],
   "source": [
    "buffered"
   ]
  },
  {
   "cell_type": "code",
   "execution_count": 30,
   "metadata": {},
   "outputs": [
    {
     "data": {
      "text/plain": [
       "method"
      ]
     },
     "execution_count": 30,
     "metadata": {},
     "output_type": "execute_result"
    }
   ],
   "source": [
    "type(point.centroid)"
   ]
  },
  {
   "cell_type": "code",
   "execution_count": 31,
   "metadata": {},
   "outputs": [],
   "source": [
    "Map.addLayer(buffered)"
   ]
  },
  {
   "cell_type": "code",
   "execution_count": 32,
   "metadata": {},
   "outputs": [],
   "source": [
    "# def reg(Map = Map, buf = 2000):\n",
    "#     Map.addLayer(buf)\n",
    "#     return 0"
   ]
  },
  {
   "cell_type": "code",
   "execution_count": 33,
   "metadata": {},
   "outputs": [],
   "source": [
    "# result_df = interact(reg, buf = (1, 10000));\n",
    "# refuge_buffered = gpd.read_file(shelters_murcia).intersects(buffered)"
   ]
  },
  {
   "cell_type": "code",
   "execution_count": null,
   "metadata": {},
   "outputs": [],
   "source": []
  },
  {
   "cell_type": "code",
   "execution_count": 34,
   "metadata": {},
   "outputs": [],
   "source": [
    "clipped = shelters_murcia.map(lambda f: f.intersection(buffered))\n",
    "# bad_clip = clipped.map(lambda f: f.intersection(MurciaRP500))\n",
    "# bad_clip = clipped.map(lambda f: f.intersection(MurciaRP500))"
   ]
  },
  {
   "cell_type": "code",
   "execution_count": 35,
   "metadata": {},
   "outputs": [],
   "source": [
    "clipped = clipped.map(lambda f: f.intersection(covid_zones))"
   ]
  },
  {
   "cell_type": "code",
   "execution_count": 36,
   "metadata": {},
   "outputs": [
    {
     "data": {
      "text/plain": [
       "ee.featurecollection.FeatureCollection"
      ]
     },
     "execution_count": 36,
     "metadata": {},
     "output_type": "execute_result"
    }
   ],
   "source": [
    "type(clipped)"
   ]
  },
  {
   "cell_type": "code",
   "execution_count": 37,
   "metadata": {},
   "outputs": [],
   "source": [
    "#bad = clipped.map(lambda f:f.difference(MurciaRP500))\n",
    "#Convert raster to vector.. or test if point intersects with pixel\n",
    "#geopandas ee geemap"
   ]
  },
  {
   "cell_type": "code",
   "execution_count": 38,
   "metadata": {},
   "outputs": [],
   "source": [
    "# # Read points from shapefile\n",
    "# pts = gpd.read_file(clipped)\n",
    "# pts = pts[['UTM_E', 'UTM_N', 'Value', 'geometry']]\n",
    "# pts.index = range(len(pts))\n",
    "# coords = [(x,y) for x, y in zip(pts.UTM_E, pts.UTM_N)]"
   ]
  },
  {
   "cell_type": "code",
   "execution_count": null,
   "metadata": {},
   "outputs": [],
   "source": []
  },
  {
   "cell_type": "code",
   "execution_count": 39,
   "metadata": {},
   "outputs": [],
   "source": [
    "#The below codes makes shapefile in the same folder this notebook is saved\n",
    "#Didn't work"
   ]
  },
  {
   "cell_type": "code",
   "execution_count": 40,
   "metadata": {},
   "outputs": [],
   "source": [
    "# gdal.UseExceptions()\n",
    "# dir = os.getcwd()\n",
    "# fileName = dir + \"/\" + MurciaRP500\n",
    "# src_ds = gdal.Open(fileName)\n",
    "# if src_ds is None:\n",
    "#     print('Unable to open %s' % src_fileName)\n",
    "#     sys.exit(1)\n",
    "# srcband = src_ds.GetRasterBand(1)\n",
    "# dst_layername = \"PolyFtr\"\n",
    "# drv = ogr.GetDriverByName(\"ESRI Shapefile\")\n",
    "# dst_ds = drv.CreateDataSource(dst_layername + \".shp\")\n",
    "# dst_layer = dst_ds.CreateLayer(dst_layername, srs = None)\n",
    "# newField = ogr.FieldDefn('Area', ogr.OFTInteger)\n",
    "# dst_layer.CreateField(newField)\n",
    "# gdal.Polygonize(srcband, None, dst_layer, 0, [], \n",
    "# callback=None )"
   ]
  },
  {
   "cell_type": "code",
   "execution_count": 41,
   "metadata": {},
   "outputs": [],
   "source": [
    "# extract_values_to_points(in_points, img, label, scale=None)\n",
    "#geemap.extract_values_to_points(clipped, MurciaRP500, label, scale=None)\n",
    "#ee.extract_values_to_points(clipped, MurciaRP500, label, scale=None)"
   ]
  },
  {
   "cell_type": "code",
   "execution_count": 42,
   "metadata": {},
   "outputs": [],
   "source": [
    "# MurciaRP500"
   ]
  },
  {
   "cell_type": "code",
   "execution_count": 43,
   "metadata": {},
   "outputs": [],
   "source": [
    "# ee.d"
   ]
  },
  {
   "cell_type": "code",
   "execution_count": 44,
   "metadata": {},
   "outputs": [],
   "source": [
    "Map.addLayer(clipped, {}, \"Clipped\")"
   ]
  },
  {
   "cell_type": "code",
   "execution_count": 45,
   "metadata": {},
   "outputs": [],
   "source": [
    "# Map.addLayer(differenced, {}, \"Shelter\")"
   ]
  },
  {
   "cell_type": "code",
   "execution_count": 46,
   "metadata": {},
   "outputs": [
    {
     "data": {
      "application/vnd.jupyter.widget-view+json": {
       "model_id": "fc8b23021303466e8b71db9c10b3d969",
       "version_major": 2,
       "version_minor": 0
      },
      "text/plain": [
       "Map(bottom=202561.0, center=[37.97126728803286, -1.169700622558594], controls=(WidgetControl(options=['positio…"
      ]
     },
     "metadata": {},
     "output_type": "display_data"
    }
   ],
   "source": [
    "Map"
   ]
  },
  {
   "cell_type": "code",
   "execution_count": null,
   "metadata": {},
   "outputs": [],
   "source": []
  },
  {
   "cell_type": "code",
   "execution_count": null,
   "metadata": {},
   "outputs": [],
   "source": []
  }
 ],
 "metadata": {
  "kernelspec": {
   "display_name": "Python 3",
   "language": "python",
   "name": "python3"
  },
  "language_info": {
   "codemirror_mode": {
    "name": "ipython",
    "version": 3
   },
   "file_extension": ".py",
   "mimetype": "text/x-python",
   "name": "python",
   "nbconvert_exporter": "python",
   "pygments_lexer": "ipython3",
   "version": "3.7.8"
  }
 },
 "nbformat": 4,
 "nbformat_minor": 4
}
